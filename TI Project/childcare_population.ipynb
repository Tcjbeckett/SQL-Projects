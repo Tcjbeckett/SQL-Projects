{
 "cells": [
  {
   "cell_type": "code",
   "execution_count": 158,
   "id": "4a9b44f1",
   "metadata": {},
   "outputs": [],
   "source": [
    "import boto3\n",
    "import pandas as pd\n",
    "from io import StringIO"
   ]
  },
  {
   "cell_type": "code",
   "execution_count": 159,
   "id": "df2228f7",
   "metadata": {},
   "outputs": [],
   "source": [
    "AWS_ACCESS_KEY = \"\"\n",
    "AWS_SECRET_KEY = \"\"\n",
    "AWS_REGION = \"us-east-1\"\n",
    "SCHEMA_NAME = \"childcare_population_dataset\"\n",
    "S3_STAGING_DIR = \"s3://athena-output-childcare-population-dataset/output/\"\n",
    "S3_BUCKET_NAME = \"athena-output-childcare-population-dataset\"\n",
    "S3_OUTPUT_DIRECTORY = \"output\""
   ]
  },
  {
   "cell_type": "code",
   "execution_count": 160,
   "id": "849f4276",
   "metadata": {},
   "outputs": [],
   "source": [
    "athena_client = boto3.client(\n",
    "'athena',\n",
    "aws_access_key_id=AWS_ACCESS_KEY,\n",
    "aws_secret_access_key=AWS_SECRET_KEY,\n",
    "region_name=AWS_REGION,\n",
    ")"
   ]
  },
  {
   "cell_type": "code",
   "execution_count": 161,
   "id": "2059c47e",
   "metadata": {},
   "outputs": [],
   "source": [
    "Dict = {}\n",
    "def download_and_load_query_results(\n",
    "client: boto3.client, query_response: Dict\n",
    ") -> pd.DataFrame:\n",
    "    while True:\n",
    "        try:\n",
    "            client.get_query_results(\n",
    "                QueryExecutionId=query_response['QueryExecutionId']\n",
    "            )\n",
    "            break\n",
    "        except Exception as err:\n",
    "            if \"not yet finished\" in str(err):\n",
    "                time.sleep(0.001)\n",
    "            else:\n",
    "                raise err\n",
    "    temp_file_location: str =\"childcare_population_results.csv\"\n",
    "    s3_client = boto3.client(\n",
    "    \"s3\",\n",
    "    aws_access_key_id=AWS_ACCESS_KEY,\n",
    "    aws_secret_access_key=AWS_SECRET_KEY,\n",
    "    region_name=AWS_REGION,\n",
    "    )\n",
    "    s3_client.download_file(\n",
    "        S3_BUCKET_NAME,\n",
    "        f\"{S3_OUTPUT_DIRECTORY}/{query_response['QueryExecutionId']}.csv\",\n",
    "        temp_file_location,\n",
    "    )\n",
    "    return pd.read_csv(temp_file_location)\n"
   ]
  },
  {
   "cell_type": "code",
   "execution_count": 162,
   "id": "b9682c59",
   "metadata": {},
   "outputs": [],
   "source": [
    "response = athena_client.start_query_execution(\n",
    "    QueryString=\"SELECT * FROM de_childcare_providers\",\n",
    "    QueryExecutionContext={\n",
    "        \"Database\": SCHEMA_NAME\n",
    "        },\n",
    "    ResultConfiguration={\n",
    "        'OutputLocation': S3_STAGING_DIR,\n",
    "        \"EncryptionConfiguration\":{\"EncryptionOption\": \"SSE_S3\"},\n",
    "    },\n",
    ")   "
   ]
  },
  {
   "cell_type": "code",
   "execution_count": 163,
   "id": "96c3a432",
   "metadata": {},
   "outputs": [
    {
     "data": {
      "text/plain": [
       "{'QueryExecutionId': '54ea5447-eef0-4882-8baa-ed852f7e8e80',\n",
       " 'ResponseMetadata': {'RequestId': 'caa9642e-3e48-4453-b24f-da47eff15e61',\n",
       "  'HTTPStatusCode': 200,\n",
       "  'HTTPHeaders': {'content-type': 'application/x-amz-json-1.1',\n",
       "   'date': 'Sun, 24 Jul 2022 17:49:35 GMT',\n",
       "   'x-amzn-requestid': 'caa9642e-3e48-4453-b24f-da47eff15e61',\n",
       "   'content-length': '59',\n",
       "   'connection': 'keep-alive'},\n",
       "  'RetryAttempts': 0}}"
      ]
     },
     "execution_count": 163,
     "metadata": {},
     "output_type": "execute_result"
    }
   ],
   "source": [
    "response"
   ]
  },
  {
   "cell_type": "code",
   "execution_count": 164,
   "id": "105b1a77",
   "metadata": {},
   "outputs": [],
   "source": [
    "de_childcare_providers = download_and_load_query_results(athena_client, response)"
   ]
  },
  {
   "cell_type": "code",
   "execution_count": 165,
   "id": "a7751ca1",
   "metadata": {},
   "outputs": [
    {
     "data": {
      "text/html": [
       "<div>\n",
       "<style scoped>\n",
       "    .dataframe tbody tr th:only-of-type {\n",
       "        vertical-align: middle;\n",
       "    }\n",
       "\n",
       "    .dataframe tbody tr th {\n",
       "        vertical-align: top;\n",
       "    }\n",
       "\n",
       "    .dataframe thead th {\n",
       "        text-align: right;\n",
       "    }\n",
       "</style>\n",
       "<table border=\"1\" class=\"dataframe\">\n",
       "  <thead>\n",
       "    <tr style=\"text-align: right;\">\n",
       "      <th></th>\n",
       "      <th>license_number</th>\n",
       "      <th>county</th>\n",
       "      <th>type_of_child_care</th>\n",
       "      <th>city</th>\n",
       "      <th>state</th>\n",
       "      <th>age_range</th>\n",
       "      <th>capacity</th>\n",
       "      <th>count</th>\n",
       "    </tr>\n",
       "  </thead>\n",
       "  <tbody>\n",
       "    <tr>\n",
       "      <th>0</th>\n",
       "      <td>27390</td>\n",
       "      <td>Sussex</td>\n",
       "      <td>Licensed Family Child Care</td>\n",
       "      <td>GEORGETOWN</td>\n",
       "      <td>DE</td>\n",
       "      <td>6 months through 12 years.</td>\n",
       "      <td>9</td>\n",
       "      <td>1</td>\n",
       "    </tr>\n",
       "    <tr>\n",
       "      <th>1</th>\n",
       "      <td>27399</td>\n",
       "      <td>New Castle</td>\n",
       "      <td>Licensed Child Care Center</td>\n",
       "      <td>WILMINGTON</td>\n",
       "      <td>DE</td>\n",
       "      <td>6 weeks through 5 years.</td>\n",
       "      <td>99</td>\n",
       "      <td>1</td>\n",
       "    </tr>\n",
       "    <tr>\n",
       "      <th>2</th>\n",
       "      <td>27407</td>\n",
       "      <td>Kent</td>\n",
       "      <td>Licensed Child Care Center</td>\n",
       "      <td>DOVER</td>\n",
       "      <td>DE</td>\n",
       "      <td>1 year through 12 years.</td>\n",
       "      <td>59</td>\n",
       "      <td>1</td>\n",
       "    </tr>\n",
       "    <tr>\n",
       "      <th>3</th>\n",
       "      <td>27410</td>\n",
       "      <td>New Castle</td>\n",
       "      <td>Licensed Family Child Care</td>\n",
       "      <td>WILMINGTON</td>\n",
       "      <td>DE</td>\n",
       "      <td>6 weeks through 12 years.</td>\n",
       "      <td>9</td>\n",
       "      <td>1</td>\n",
       "    </tr>\n",
       "    <tr>\n",
       "      <th>4</th>\n",
       "      <td>27411</td>\n",
       "      <td>New Castle</td>\n",
       "      <td>Licensed Family Child Care</td>\n",
       "      <td>WILMINGTON</td>\n",
       "      <td>DE</td>\n",
       "      <td>6 weeks through 12 years.</td>\n",
       "      <td>9</td>\n",
       "      <td>1</td>\n",
       "    </tr>\n",
       "  </tbody>\n",
       "</table>\n",
       "</div>"
      ],
      "text/plain": [
       "   license_number      county          type_of_child_care        city state  \\\n",
       "0           27390      Sussex  Licensed Family Child Care  GEORGETOWN    DE   \n",
       "1           27399  New Castle  Licensed Child Care Center  WILMINGTON    DE   \n",
       "2           27407        Kent  Licensed Child Care Center       DOVER    DE   \n",
       "3           27410  New Castle  Licensed Family Child Care  WILMINGTON    DE   \n",
       "4           27411  New Castle  Licensed Family Child Care  WILMINGTON    DE   \n",
       "\n",
       "                    age_range  capacity  count  \n",
       "0  6 months through 12 years.         9      1  \n",
       "1    6 weeks through 5 years.        99      1  \n",
       "2    1 year through 12 years.        59      1  \n",
       "3   6 weeks through 12 years.         9      1  \n",
       "4   6 weeks through 12 years.         9      1  "
      ]
     },
     "execution_count": 165,
     "metadata": {},
     "output_type": "execute_result"
    }
   ],
   "source": [
    "de_childcare_providers.head()"
   ]
  },
  {
   "cell_type": "code",
   "execution_count": 166,
   "id": "b3ea4f29",
   "metadata": {},
   "outputs": [],
   "source": [
    "response = athena_client.start_query_execution(\n",
    "    QueryString=\"SELECT * FROM population_stats_for_de_2015_2016_5y___under_5\",\n",
    "    QueryExecutionContext={\n",
    "        \"Database\": SCHEMA_NAME\n",
    "        },\n",
    "    ResultConfiguration={\n",
    "        'OutputLocation': S3_STAGING_DIR,\n",
    "        \"EncryptionConfiguration\":{\"EncryptionOption\": \"SSE_S3\"},\n",
    "    },\n",
    ")   "
   ]
  },
  {
   "cell_type": "code",
   "execution_count": 167,
   "id": "761fb064",
   "metadata": {},
   "outputs": [],
   "source": [
    "population_stats_for_de_2015_2016_5y___under_5 = download_and_load_query_results(athena_client, response)"
   ]
  },
  {
   "cell_type": "code",
   "execution_count": 168,
   "id": "ffc9b38f",
   "metadata": {},
   "outputs": [
    {
     "data": {
      "text/html": [
       "<div>\n",
       "<style scoped>\n",
       "    .dataframe tbody tr th:only-of-type {\n",
       "        vertical-align: middle;\n",
       "    }\n",
       "\n",
       "    .dataframe tbody tr th {\n",
       "        vertical-align: top;\n",
       "    }\n",
       "\n",
       "    .dataframe thead th {\n",
       "        text-align: right;\n",
       "    }\n",
       "</style>\n",
       "<table border=\"1\" class=\"dataframe\">\n",
       "  <thead>\n",
       "    <tr style=\"text-align: right;\">\n",
       "      <th></th>\n",
       "      <th>county</th>\n",
       "      <th>blank</th>\n",
       "      <th>total_pop</th>\n",
       "      <th>total_pop_under_5</th>\n",
       "    </tr>\n",
       "  </thead>\n",
       "  <tbody>\n",
       "    <tr>\n",
       "      <th>0</th>\n",
       "      <td>\"Kent County</td>\n",
       "      <td>NaN</td>\n",
       "      <td>179124</td>\n",
       "      <td>11091</td>\n",
       "    </tr>\n",
       "    <tr>\n",
       "      <th>1</th>\n",
       "      <td>\"New Castle County</td>\n",
       "      <td>NaN</td>\n",
       "      <td>558306</td>\n",
       "      <td>32070</td>\n",
       "    </tr>\n",
       "    <tr>\n",
       "      <th>2</th>\n",
       "      <td>\"Sussex County</td>\n",
       "      <td>NaN</td>\n",
       "      <td>230249</td>\n",
       "      <td>11613</td>\n",
       "    </tr>\n",
       "  </tbody>\n",
       "</table>\n",
       "</div>"
      ],
      "text/plain": [
       "               county  blank  total_pop  total_pop_under_5\n",
       "0        \"Kent County    NaN     179124              11091\n",
       "1  \"New Castle County    NaN     558306              32070\n",
       "2      \"Sussex County    NaN     230249              11613"
      ]
     },
     "execution_count": 168,
     "metadata": {},
     "output_type": "execute_result"
    }
   ],
   "source": [
    "population_stats_for_de_2015_2016_5y___under_5.head()"
   ]
  },
  {
   "cell_type": "code",
   "execution_count": 169,
   "id": "314dc8c5",
   "metadata": {},
   "outputs": [],
   "source": [
    "combined_data_1 = de_childcare_providers[['license_number', 'county', 'type_of_child_care', 'city', 'age_range', 'capacity', 'count']]\n",
    "combined_data_2 = population_stats_for_de_2015_2016_5y___under_5[['county', 'total_pop', 'total_pop_under_5']]\n",
    "combined_data = pd.merge(combined_data_1, combined_data_2, how='outer' )"
   ]
  },
  {
   "cell_type": "code",
   "execution_count": 170,
   "id": "9cf9a5d0",
   "metadata": {},
   "outputs": [
    {
     "data": {
      "text/html": [
       "<div>\n",
       "<style scoped>\n",
       "    .dataframe tbody tr th:only-of-type {\n",
       "        vertical-align: middle;\n",
       "    }\n",
       "\n",
       "    .dataframe tbody tr th {\n",
       "        vertical-align: top;\n",
       "    }\n",
       "\n",
       "    .dataframe thead th {\n",
       "        text-align: right;\n",
       "    }\n",
       "</style>\n",
       "<table border=\"1\" class=\"dataframe\">\n",
       "  <thead>\n",
       "    <tr style=\"text-align: right;\">\n",
       "      <th></th>\n",
       "      <th>license_number</th>\n",
       "      <th>county</th>\n",
       "      <th>type_of_child_care</th>\n",
       "      <th>city</th>\n",
       "      <th>age_range</th>\n",
       "      <th>capacity</th>\n",
       "      <th>count</th>\n",
       "      <th>total_pop</th>\n",
       "      <th>total_pop_under_5</th>\n",
       "    </tr>\n",
       "  </thead>\n",
       "  <tbody>\n",
       "    <tr>\n",
       "      <th>0</th>\n",
       "      <td>27390.0</td>\n",
       "      <td>Sussex</td>\n",
       "      <td>Licensed Family Child Care</td>\n",
       "      <td>GEORGETOWN</td>\n",
       "      <td>6 months through 12 years.</td>\n",
       "      <td>9.0</td>\n",
       "      <td>1.0</td>\n",
       "      <td>NaN</td>\n",
       "      <td>NaN</td>\n",
       "    </tr>\n",
       "    <tr>\n",
       "      <th>1</th>\n",
       "      <td>27473.0</td>\n",
       "      <td>Sussex</td>\n",
       "      <td>Licensed Family Child Care</td>\n",
       "      <td>MILTON</td>\n",
       "      <td>6 weeks through 12 years.</td>\n",
       "      <td>9.0</td>\n",
       "      <td>1.0</td>\n",
       "      <td>NaN</td>\n",
       "      <td>NaN</td>\n",
       "    </tr>\n",
       "    <tr>\n",
       "      <th>2</th>\n",
       "      <td>27501.0</td>\n",
       "      <td>Sussex</td>\n",
       "      <td>Licensed Family Child Care</td>\n",
       "      <td>MILLSBORO</td>\n",
       "      <td>6 weeks through 12 years.</td>\n",
       "      <td>9.0</td>\n",
       "      <td>1.0</td>\n",
       "      <td>NaN</td>\n",
       "      <td>NaN</td>\n",
       "    </tr>\n",
       "    <tr>\n",
       "      <th>3</th>\n",
       "      <td>27923.0</td>\n",
       "      <td>Sussex</td>\n",
       "      <td>Licensed Family Child Care</td>\n",
       "      <td>FRANKFORD</td>\n",
       "      <td>6 weeks through 8 years.</td>\n",
       "      <td>9.0</td>\n",
       "      <td>1.0</td>\n",
       "      <td>NaN</td>\n",
       "      <td>NaN</td>\n",
       "    </tr>\n",
       "    <tr>\n",
       "      <th>4</th>\n",
       "      <td>27929.0</td>\n",
       "      <td>Sussex</td>\n",
       "      <td>Licensed Family Child Care</td>\n",
       "      <td>FRANKFORD</td>\n",
       "      <td>6 weeks through 3 years.</td>\n",
       "      <td>9.0</td>\n",
       "      <td>1.0</td>\n",
       "      <td>NaN</td>\n",
       "      <td>NaN</td>\n",
       "    </tr>\n",
       "  </tbody>\n",
       "</table>\n",
       "</div>"
      ],
      "text/plain": [
       "   license_number  county          type_of_child_care        city  \\\n",
       "0         27390.0  Sussex  Licensed Family Child Care  GEORGETOWN   \n",
       "1         27473.0  Sussex  Licensed Family Child Care      MILTON   \n",
       "2         27501.0  Sussex  Licensed Family Child Care   MILLSBORO   \n",
       "3         27923.0  Sussex  Licensed Family Child Care   FRANKFORD   \n",
       "4         27929.0  Sussex  Licensed Family Child Care   FRANKFORD   \n",
       "\n",
       "                    age_range  capacity  count  total_pop  total_pop_under_5  \n",
       "0  6 months through 12 years.       9.0    1.0        NaN                NaN  \n",
       "1   6 weeks through 12 years.       9.0    1.0        NaN                NaN  \n",
       "2   6 weeks through 12 years.       9.0    1.0        NaN                NaN  \n",
       "3    6 weeks through 8 years.       9.0    1.0        NaN                NaN  \n",
       "4    6 weeks through 3 years.       9.0    1.0        NaN                NaN  "
      ]
     },
     "execution_count": 170,
     "metadata": {},
     "output_type": "execute_result"
    }
   ],
   "source": [
    "combined_data.head()"
   ]
  },
  {
   "cell_type": "code",
   "execution_count": 171,
   "id": "9ee0aebb",
   "metadata": {},
   "outputs": [],
   "source": [
    "bucket = 'athena-output-childcare-population-dataset'"
   ]
  },
  {
   "cell_type": "code",
   "execution_count": 172,
   "id": "24e98af2",
   "metadata": {},
   "outputs": [],
   "source": [
    "csv_buffer = StringIO()\n"
   ]
  },
  {
   "cell_type": "code",
   "execution_count": 173,
   "id": "983a61f2",
   "metadata": {},
   "outputs": [],
   "source": [
    "combined_data.to_csv(csv_buffer)\n"
   ]
  },
  {
   "cell_type": "code",
   "execution_count": 174,
   "id": "e6ec170c",
   "metadata": {},
   "outputs": [],
   "source": [
    "s3_resource = boto3.resource(\n",
    "    's3',\n",
    "    aws_access_key_id=AWS_ACCESS_KEY,\n",
    "    aws_secret_access_key=AWS_SECRET_KEY,\n",
    "    region_name=AWS_REGION,\n",
    ")\n"
   ]
  },
  {
   "cell_type": "code",
   "execution_count": 175,
   "id": "eeefa75a",
   "metadata": {},
   "outputs": [
    {
     "data": {
      "text/plain": [
       "{'ResponseMetadata': {'RequestId': 'AXE6EY8P00X9MNRV',\n",
       "  'HostId': 'aqw3kGGDVIjy1opC4OaxbixFHAIltZiwmFYsMh9kTMyp6SN9nvdv9qQDbYfdFDJhqbtoC3uW4O4=',\n",
       "  'HTTPStatusCode': 200,\n",
       "  'HTTPHeaders': {'x-amz-id-2': 'aqw3kGGDVIjy1opC4OaxbixFHAIltZiwmFYsMh9kTMyp6SN9nvdv9qQDbYfdFDJhqbtoC3uW4O4=',\n",
       "   'x-amz-request-id': 'AXE6EY8P00X9MNRV',\n",
       "   'date': 'Sun, 24 Jul 2022 17:50:06 GMT',\n",
       "   'etag': '\"5e10c6957d22e2249fcbf4d211219fb7\"',\n",
       "   'server': 'AmazonS3',\n",
       "   'content-length': '0'},\n",
       "  'RetryAttempts': 0},\n",
       " 'ETag': '\"5e10c6957d22e2249fcbf4d211219fb7\"'}"
      ]
     },
     "execution_count": 175,
     "metadata": {},
     "output_type": "execute_result"
    }
   ],
   "source": [
    "s3_resource.Object(bucket, 'output/combined_data.csv').put(Body=csv_buffer.getvalue())"
   ]
  },
  {
   "cell_type": "code",
   "execution_count": 176,
   "id": "bb90ce80",
   "metadata": {},
   "outputs": [
    {
     "data": {
      "text/plain": [
       "{'ResponseMetadata': {'RequestId': 'XB69T0EMHN95VVQG',\n",
       "  'HostId': 'Ck4TeMiAx7Dc44ihwxxwDUHn/po7KRlU6ApYe3Ly47m5AlaoxFY/YhXf/AuqAqKlqmqgRPn+rGg=',\n",
       "  'HTTPStatusCode': 200,\n",
       "  'HTTPHeaders': {'x-amz-id-2': 'Ck4TeMiAx7Dc44ihwxxwDUHn/po7KRlU6ApYe3Ly47m5AlaoxFY/YhXf/AuqAqKlqmqgRPn+rGg=',\n",
       "   'x-amz-request-id': 'XB69T0EMHN95VVQG',\n",
       "   'date': 'Sun, 24 Jul 2022 17:50:08 GMT',\n",
       "   'etag': '\"0fe67a1642844259a2c0f7b96e908fbe\"',\n",
       "   'server': 'AmazonS3',\n",
       "   'content-length': '0'},\n",
       "  'RetryAttempts': 0},\n",
       " 'ETag': '\"0fe67a1642844259a2c0f7b96e908fbe\"'}"
      ]
     },
     "execution_count": 176,
     "metadata": {},
     "output_type": "execute_result"
    }
   ],
   "source": [
    "bucket = 'athena-output-childcare-population-dataset'\n",
    "csv_buffer = StringIO()\n",
    "combined_data_1.to_csv(csv_buffer)\n",
    "s3_resource = boto3.resource(\n",
    "    's3',\n",
    "    aws_access_key_id=AWS_ACCESS_KEY,\n",
    "    aws_secret_access_key=AWS_SECRET_KEY,\n",
    "    region_name=AWS_REGION,\n",
    ")\n",
    "s3_resource.Object(bucket, 'output/combined_data_1.csv').put(Body=csv_buffer.getvalue())"
   ]
  },
  {
   "cell_type": "code",
   "execution_count": 177,
   "id": "53374f91",
   "metadata": {},
   "outputs": [
    {
     "data": {
      "text/plain": [
       "{'ResponseMetadata': {'RequestId': 'ATBRKRD6YGQ63ZK5',\n",
       "  'HostId': 'DywoPHawOzUBMQKPviq0BLpDruwVtowgN7H/YnahibxYs1UuUVg47hpw8N1auv0gsmTV7mDUro4=',\n",
       "  'HTTPStatusCode': 200,\n",
       "  'HTTPHeaders': {'x-amz-id-2': 'DywoPHawOzUBMQKPviq0BLpDruwVtowgN7H/YnahibxYs1UuUVg47hpw8N1auv0gsmTV7mDUro4=',\n",
       "   'x-amz-request-id': 'ATBRKRD6YGQ63ZK5',\n",
       "   'date': 'Sun, 24 Jul 2022 17:50:10 GMT',\n",
       "   'etag': '\"3b93361f27b4b29b1a6a739b24a91859\"',\n",
       "   'server': 'AmazonS3',\n",
       "   'content-length': '0'},\n",
       "  'RetryAttempts': 0},\n",
       " 'ETag': '\"3b93361f27b4b29b1a6a739b24a91859\"'}"
      ]
     },
     "execution_count": 177,
     "metadata": {},
     "output_type": "execute_result"
    }
   ],
   "source": [
    "bucket = 'athena-output-childcare-population-dataset'\n",
    "csv_buffer = StringIO()\n",
    "combined_data_2.to_csv(csv_buffer)\n",
    "s3_resource = boto3.resource(\n",
    "    's3',\n",
    "    aws_access_key_id=AWS_ACCESS_KEY,\n",
    "    aws_secret_access_key=AWS_SECRET_KEY,\n",
    "    region_name=AWS_REGION,\n",
    ")\n",
    "s3_resource.Object(bucket, 'output/combined_data_2.csv').put(Body=csv_buffer.getvalue())"
   ]
  },
  {
   "cell_type": "code",
   "execution_count": 178,
   "id": "db679489",
   "metadata": {},
   "outputs": [
    {
     "name": "stdout",
     "output_type": "stream",
     "text": [
      "CREATE TABLE \"combined_data_1\" (\n",
      "\"index\" INTEGER,\n",
      "  \"license_number\" INTEGER,\n",
      "  \"county\" TEXT,\n",
      "  \"type_of_child_care\" TEXT,\n",
      "  \"city\" TEXT,\n",
      "  \"age_range\" TEXT,\n",
      "  \"capacity\" INTEGER,\n",
      "  \"count\" INTEGER\n",
      ")\n"
     ]
    }
   ],
   "source": [
    "combined_data_1sql = pd.io.sql.get_schema(combined_data_1.reset_index(), 'combined_data_1')\n",
    "print(''.join(combined_data_1sql))"
   ]
  },
  {
   "cell_type": "code",
   "execution_count": 179,
   "id": "3254fefa",
   "metadata": {},
   "outputs": [
    {
     "name": "stdout",
     "output_type": "stream",
     "text": [
      "CREATE TABLE \"combined_data_2\" (\n",
      "\"index\" INTEGER,\n",
      "  \"county\" TEXT,\n",
      "  \"total_pop\" INTEGER,\n",
      "  \"total_pop_under_5\" INTEGER\n",
      ")\n"
     ]
    }
   ],
   "source": [
    "combined_data_2sql = pd.io.sql.get_schema(combined_data_2.reset_index(), 'combined_data_2')\n",
    "print(''.join(combined_data_2sql))"
   ]
  },
  {
   "cell_type": "code",
   "execution_count": 180,
   "id": "d46fc2ec",
   "metadata": {},
   "outputs": [
    {
     "name": "stdout",
     "output_type": "stream",
     "text": [
      "CREATE TABLE \"combined_data\" (\n",
      "\"index\" INTEGER,\n",
      "  \"license_number\" REAL,\n",
      "  \"county\" TEXT,\n",
      "  \"type_of_child_care\" TEXT,\n",
      "  \"city\" TEXT,\n",
      "  \"age_range\" TEXT,\n",
      "  \"capacity\" REAL,\n",
      "  \"count\" REAL,\n",
      "  \"total_pop\" REAL,\n",
      "  \"total_pop_under_5\" REAL\n",
      ")\n"
     ]
    }
   ],
   "source": [
    "combined_datasql = pd.io.sql.get_schema(combined_data.reset_index(), 'combined_data')\n",
    "print(''.join(combined_datasql))"
   ]
  },
  {
   "cell_type": "code",
   "execution_count": 181,
   "id": "a5f34079",
   "metadata": {},
   "outputs": [],
   "source": [
    "import redshift_connector"
   ]
  },
  {
   "cell_type": "code",
   "execution_count": 185,
   "id": "325d3d02",
   "metadata": {},
   "outputs": [],
   "source": [
    "conn = redshift_connector.connect(\n",
    "host='redshift-cluster-1.cipnettqiss0.us-east-1.redshift.amazonaws.com',\n",
    "database='dev',\n",
    "user='awsuser',\n",
    "password='Password123!'\n",
    " )\n",
    "           \n",
    "                 "
   ]
  },
  {
   "cell_type": "code",
   "execution_count": 186,
   "id": "9ba7e3fc",
   "metadata": {},
   "outputs": [],
   "source": [
    "conn.autocommit = True"
   ]
  },
  {
   "cell_type": "raw",
   "id": "3e372ae8",
   "metadata": {},
   "source": []
  },
  {
   "cell_type": "code",
   "execution_count": 192,
   "id": "e7e5dc18",
   "metadata": {},
   "outputs": [
    {
     "data": {
      "text/plain": [
       "<redshift_connector.cursor.Cursor at 0x1ac4b0ece20>"
      ]
     },
     "execution_count": 192,
     "metadata": {},
     "output_type": "execute_result"
    }
   ],
   "source": [
    "cursor = redshift_connector.Cursor = conn.cursor()\n",
    "cursor.execute(\"\"\"\n",
    "               CREATE TABLE \"combined_data_1\" (\n",
    "\"index\" INTEGER,\n",
    "  \"license_number\" INTEGER,\n",
    "  \"county\" TEXT,\n",
    "  \"type_of_child_care\" TEXT,\n",
    "  \"city\" TEXT,\n",
    "  \"age_range\" TEXT,\n",
    "  \"capacity\" INTEGER,\n",
    "  \"count\" INTEGER\n",
    ")\n",
    "\"\"\")"
   ]
  },
  {
   "cell_type": "code",
   "execution_count": 193,
   "id": "6c3db3be",
   "metadata": {},
   "outputs": [
    {
     "data": {
      "text/plain": [
       "<redshift_connector.cursor.Cursor at 0x1ac4b0ece20>"
      ]
     },
     "execution_count": 193,
     "metadata": {},
     "output_type": "execute_result"
    }
   ],
   "source": [
    "\n",
    "cursor.execute(\"\"\"\n",
    "               CREATE TABLE \"combined_data_2\" (\n",
    "\"index\" INTEGER,\n",
    "  \"county\" TEXT,\n",
    "  \"total_pop\" INTEGER,\n",
    "  \"total_pop_under_5\" INTEGER\n",
    ")\n",
    "\"\"\")"
   ]
  },
  {
   "cell_type": "code",
   "execution_count": 194,
   "id": "24380387",
   "metadata": {},
   "outputs": [
    {
     "data": {
      "text/plain": [
       "<redshift_connector.cursor.Cursor at 0x1ac4b0ece20>"
      ]
     },
     "execution_count": 194,
     "metadata": {},
     "output_type": "execute_result"
    }
   ],
   "source": [
    "cursor.execute(\"\"\"\n",
    "               CREATE TABLE \"combined_data\" (\n",
    "\"index\" INTEGER,\n",
    "  \"license_number\" REAL,\n",
    "  \"county\" TEXT,\n",
    "  \"type_of_child_care\" TEXT,\n",
    "  \"city\" TEXT,\n",
    "  \"age_range\" TEXT,\n",
    "  \"capacity\" REAL,\n",
    "  \"count\" REAL,\n",
    "  \"total_pop\" REAL,\n",
    "  \"total_pop_under_5\" REAL\n",
    ")\n",
    "\"\"\")"
   ]
  },
  {
   "cell_type": "code",
   "execution_count": 201,
   "id": "f4e680de",
   "metadata": {},
   "outputs": [
    {
     "data": {
      "text/plain": [
       "<redshift_connector.cursor.Cursor at 0x1ac4b0ece20>"
      ]
     },
     "execution_count": 201,
     "metadata": {},
     "output_type": "execute_result"
    }
   ],
   "source": [
    "cursor.execute(\"\"\"\n",
    "copy combined_data_1 from 's3://athena-output-childcare-population-dataset/output/combined_data_1.csv'\n",
    "credentials 'aws_iam_role=arn:aws:iam::298203450806:role/redshift-s3-access'\n",
    "delimiter ','\n",
    "region 'us-east-1'\n",
    "IGNOREHEADER 1\n",
    "\"\"\")"
   ]
  },
  {
   "cell_type": "code",
   "execution_count": 202,
   "id": "e6c2af1c",
   "metadata": {},
   "outputs": [
    {
     "data": {
      "text/plain": [
       "<redshift_connector.cursor.Cursor at 0x1ac4b0ece20>"
      ]
     },
     "execution_count": 202,
     "metadata": {},
     "output_type": "execute_result"
    }
   ],
   "source": [
    "cursor.execute(\"\"\"\n",
    "copy combined_data_2 from 's3://athena-output-childcare-population-dataset/output/combined_data_2.csv'\n",
    "credentials 'aws_iam_role=arn:aws:iam::298203450806:role/redshift-s3-access'\n",
    "delimiter ','\n",
    "region 'us-east-1'\n",
    "IGNOREHEADER 1\n",
    "\"\"\")"
   ]
  },
  {
   "cell_type": "code",
   "execution_count": null,
   "id": "25e5578a",
   "metadata": {},
   "outputs": [],
   "source": []
  }
 ],
 "metadata": {
  "kernelspec": {
   "display_name": "Python 3 (ipykernel)",
   "language": "python",
   "name": "python3"
  },
  "language_info": {
   "codemirror_mode": {
    "name": "ipython",
    "version": 3
   },
   "file_extension": ".py",
   "mimetype": "text/x-python",
   "name": "python",
   "nbconvert_exporter": "python",
   "pygments_lexer": "ipython3",
   "version": "3.9.12"
  }
 },
 "nbformat": 4,
 "nbformat_minor": 5
}
